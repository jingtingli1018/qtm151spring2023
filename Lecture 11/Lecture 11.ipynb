{
 "cells": [
  {
   "attachments": {},
   "cell_type": "markdown",
   "metadata": {},
   "source": [
    "# <span style=\"color:darkblue\"> Lecture 11: Application 1 - Linear Regression </span>\n",
    "\n",
    "<font size = \"5\">\n",
    "\n",
    "We will fit statistical models to data\n",
    "\n",
    "- I will give an intro with minimal stats background\n",
    "- See the optional lecture file for advanced users\n",
    "\n",
    "The primary goal is to practice previous commands"
   ]
  },
  {
   "attachments": {},
   "cell_type": "markdown",
   "metadata": {},
   "source": [
    "# <span style=\"color:darkblue\"> I. Import Libraries </span>\n"
   ]
  },
  {
   "cell_type": "code",
<<<<<<< HEAD
   "execution_count": 1,
=======
   "execution_count": 9,
>>>>>>> upstream/main
   "metadata": {},
   "outputs": [],
   "source": [
    "# The \"pandas\" library is used for processing datasets\n",
    "# The \"numpy\" is for numeric observations and random numbers\n",
    "# The \"matplotlib.pyplot\" library is for creating graphs\n",
    "\n",
    "import pandas as pd\n",
    "import numpy as np\n",
    "import matplotlib.pyplot as plt\n"
   ]
  },
  {
   "attachments": {},
   "cell_type": "markdown",
   "metadata": {},
   "source": [
    "<font size = \"5\">\n",
    "\n",
    "Install the \"statsmodels\" library\n",
    "- Run \"pip3 install statsmodels\" in the terminal\n",
    "- Automatically included in Anaconda"
   ]
  },
  {
   "cell_type": "code",
   "execution_count": 2,
   "metadata": {},
   "outputs": [],
   "source": [
    "# We will \"alias\" two sublibraries in \"statsmodels\"\n",
    "# \"statsmodels.formula.api\" contains functions to estimate models\n",
    "# \"statsmodels.api\" contains general-use statistical options\n",
    "\n",
    "import statsmodels.api as sm\n",
    "import statsmodels.formula.api as smf\n"
   ]
  },
  {
   "attachments": {},
   "cell_type": "markdown",
   "metadata": {},
   "source": [
    "# <span style=\"color:darkblue\"> II. Generate simulated Data </span>\n",
    "\n",
    "<font size = \"5\">\n",
    "\n",
    "Create an empty dataset"
   ]
  },
  {
   "cell_type": "code",
   "execution_count": 3,
   "metadata": {},
   "outputs": [],
   "source": [
    "dataset = pd.DataFrame([])"
   ]
  },
  {
   "attachments": {},
   "cell_type": "markdown",
   "metadata": {},
   "source": [
    "<font size = \"5\">\n",
    "\n",
    "Create two random variables of size ($n = 50$)"
   ]
  },
  {
   "cell_type": "code",
   "execution_count": 4,
   "metadata": {},
   "outputs": [],
   "source": [
    "n = 50\n",
    "dataset[\"x\"] = np.random.normal(loc = 0,scale = 1, size = n)\n",
    "dataset[\"e\"] = np.random.normal(loc = 0,scale = 1, size = n)\n"
   ]
  },
  {
   "attachments": {},
   "cell_type": "markdown",
   "metadata": {},
   "source": [
    "<font size = \"5\">\n",
    "\n",
    "Create data from the linear model\n",
    "\n",
    "$ y = b_0 + b_1 x + e, \\qquad b_0 = 1, b_1 = 2.$"
   ]
  },
  {
   "cell_type": "code",
   "execution_count": 5,
   "metadata": {},
   "outputs": [],
   "source": [
    "# The number b0 is known as the \"intercept\"\n",
    "# The number b1 is known as the \"slope\"\n",
    "\n",
    "b0 = 1\n",
    "b1 = 2\n",
    "\n",
    "# We can compute formulas directly over dataset columns\n",
    "dataset[\"y\"] = b0 + b1 * dataset[\"x\"] + dataset[\"e\"]"
   ]
  },
  {
   "attachments": {},
   "cell_type": "markdown",
   "metadata": {},
   "source": [
    "<font size = \"5\">\n",
    "\n",
    "Compute the theoretically best fit line\n",
    "\n",
    "$ p = b_0 + b_1 x$"
   ]
  },
  {
   "cell_type": "code",
   "execution_count": 7,
   "metadata": {},
   "outputs": [],
   "source": [
    "dataset[\"p\"] = b0 + b1*dataset[\"x\"]"
   ]
  },
  {
   "attachments": {},
   "cell_type": "markdown",
   "metadata": {},
   "source": [
    "<font size = \"5\">\n",
    "\n",
    "Plot the data"
   ]
  },
  {
   "cell_type": "code",
   "execution_count": 8,
   "metadata": {},
   "outputs": [
    {
     "data": {
      "image/png": "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",
      "text/plain": [
       "<Figure size 640x480 with 1 Axes>"
      ]
     },
     "metadata": {},
     "output_type": "display_data"
    }
   ],
   "source": [
    "plt.scatter(x = dataset[\"x\"], y = dataset[\"y\"])\n",
    "plt.scatter(x = dataset[\"x\"], y = dataset[\"p\"])\n",
    "\n",
    "plt.xlabel(\"X Variable\")\n",
    "plt.ylabel(\"Y Variable\")\n",
    "plt.legend(labels = [\"Data points\", \"Best fit line\"])\n",
    "plt.show()\n"
   ]
  },
  {
   "attachments": {},
   "cell_type": "markdown",
   "metadata": {},
   "source": [
    "<font size = \"5\" >\n",
    "\n",
    "Try it yourself\n",
    "\n",
    "- Create a new dataset called $\\quad$```subset_above2``` \n",
    "- This subsets records with $y \\ge 2$ using $\\quad$```.query()```\n",
    "- Count the original rows $\\quad$ ```len(dataset)```\n",
    "- Count the subsetted rows $\\quad$ ```len(subset_above2)```\n",
    "- Compute the proportion of subsetted observations\n"
   ]
  },
  {
   "cell_type": "code",
   "execution_count": 12,
   "metadata": {},
   "outputs": [
    {
     "name": "stdout",
     "output_type": "stream",
     "text": [
      "50\n",
      "0.36\n"
     ]
    }
   ],
   "source": [
    "# Write your own code here\n",
    "\n",
    "subset_above2= pd.DataFrame([])\n",
    "subset_above2= dataset.query(\"y>=2\")\n",
    "print(len(dataset))\n",
    "print(len(subset_above2)/len(dataset))\n"
   ]
  },
  {
   "attachments": {},
   "cell_type": "markdown",
   "metadata": {},
   "source": [
    "<font size = \"5\">\n",
    "\n",
    "Try it yourself!\n",
    "\n",
    "- Store the sample mean of $y$ as $\\quad$ ```ybar```\n",
    "- Compute the standard deviation of $y$ $\\quad$ ```stdv_sample```\n",
    "- Use ```.query()``` to subset observations that satisfy\n",
    "\n",
    "$ \\qquad abs\\left(y - ybar \\right) \\le stdv\\_sample $\n",
    "\n",
    "$\\quad$ HINT: Use ```.mean()```,$\\text{ }$ ```.std()``` <br>\n",
    "$\\quad$ HINT: Use the globals  $\\ $ ```@xbar```,$\\text{ }$ ```@stdv_sample```"
   ]
  },
  {
   "cell_type": "code",
   "execution_count": 14,
   "metadata": {},
   "outputs": [
    {
     "data": {
      "text/html": [
       "<div>\n",
       "<style scoped>\n",
       "    .dataframe tbody tr th:only-of-type {\n",
       "        vertical-align: middle;\n",
       "    }\n",
       "\n",
       "    .dataframe tbody tr th {\n",
       "        vertical-align: top;\n",
       "    }\n",
       "\n",
       "    .dataframe thead th {\n",
       "        text-align: right;\n",
       "    }\n",
       "</style>\n",
       "<table border=\"1\" class=\"dataframe\">\n",
       "  <thead>\n",
       "    <tr style=\"text-align: right;\">\n",
       "      <th></th>\n",
       "      <th>x</th>\n",
       "      <th>e</th>\n",
       "      <th>y</th>\n",
       "      <th>p</th>\n",
       "    </tr>\n",
       "  </thead>\n",
       "  <tbody>\n",
       "    <tr>\n",
       "      <th>1</th>\n",
       "      <td>0.580828</td>\n",
       "      <td>0.148958</td>\n",
       "      <td>2.310614</td>\n",
       "      <td>2.161656</td>\n",
       "    </tr>\n",
       "    <tr>\n",
       "      <th>2</th>\n",
       "      <td>-0.867230</td>\n",
       "      <td>-0.492405</td>\n",
       "      <td>-1.226866</td>\n",
       "      <td>-0.734461</td>\n",
       "    </tr>\n",
       "    <tr>\n",
       "      <th>4</th>\n",
       "      <td>-0.058735</td>\n",
       "      <td>0.457048</td>\n",
       "      <td>1.339578</td>\n",
       "      <td>0.882529</td>\n",
       "    </tr>\n",
       "    <tr>\n",
       "      <th>5</th>\n",
       "      <td>0.364189</td>\n",
       "      <td>-1.005736</td>\n",
       "      <td>0.722642</td>\n",
       "      <td>1.728378</td>\n",
       "    </tr>\n",
       "    <tr>\n",
       "      <th>6</th>\n",
       "      <td>-0.823832</td>\n",
       "      <td>1.257918</td>\n",
       "      <td>0.610253</td>\n",
       "      <td>-0.647665</td>\n",
       "    </tr>\n",
       "    <tr>\n",
       "      <th>7</th>\n",
       "      <td>0.384961</td>\n",
       "      <td>-0.464372</td>\n",
       "      <td>1.305551</td>\n",
       "      <td>1.769922</td>\n",
       "    </tr>\n",
       "    <tr>\n",
       "      <th>8</th>\n",
       "      <td>-0.052846</td>\n",
       "      <td>1.479420</td>\n",
       "      <td>2.373729</td>\n",
       "      <td>0.894309</td>\n",
       "    </tr>\n",
       "    <tr>\n",
       "      <th>10</th>\n",
       "      <td>0.601696</td>\n",
       "      <td>0.243021</td>\n",
       "      <td>2.446412</td>\n",
       "      <td>2.203391</td>\n",
       "    </tr>\n",
       "    <tr>\n",
       "      <th>11</th>\n",
       "      <td>-0.565528</td>\n",
       "      <td>-0.708750</td>\n",
       "      <td>-0.839807</td>\n",
       "      <td>-0.131057</td>\n",
       "    </tr>\n",
       "    <tr>\n",
       "      <th>12</th>\n",
       "      <td>-0.546636</td>\n",
       "      <td>1.211224</td>\n",
       "      <td>1.117952</td>\n",
       "      <td>-0.093272</td>\n",
       "    </tr>\n",
       "    <tr>\n",
       "      <th>13</th>\n",
       "      <td>0.011148</td>\n",
       "      <td>0.538055</td>\n",
       "      <td>1.560350</td>\n",
       "      <td>1.022296</td>\n",
       "    </tr>\n",
       "    <tr>\n",
       "      <th>14</th>\n",
       "      <td>0.128003</td>\n",
       "      <td>1.586182</td>\n",
       "      <td>2.842188</td>\n",
       "      <td>1.256006</td>\n",
       "    </tr>\n",
       "    <tr>\n",
       "      <th>15</th>\n",
       "      <td>0.194572</td>\n",
       "      <td>-0.163093</td>\n",
       "      <td>1.226051</td>\n",
       "      <td>1.389145</td>\n",
       "    </tr>\n",
       "    <tr>\n",
       "      <th>16</th>\n",
       "      <td>0.764734</td>\n",
       "      <td>-1.032744</td>\n",
       "      <td>1.496723</td>\n",
       "      <td>2.529467</td>\n",
       "    </tr>\n",
       "    <tr>\n",
       "      <th>19</th>\n",
       "      <td>-0.466635</td>\n",
       "      <td>1.519238</td>\n",
       "      <td>1.585968</td>\n",
       "      <td>0.066729</td>\n",
       "    </tr>\n",
       "    <tr>\n",
       "      <th>27</th>\n",
       "      <td>-0.379054</td>\n",
       "      <td>0.487487</td>\n",
       "      <td>0.729379</td>\n",
       "      <td>0.241892</td>\n",
       "    </tr>\n",
       "    <tr>\n",
       "      <th>28</th>\n",
       "      <td>-0.445561</td>\n",
       "      <td>-1.335369</td>\n",
       "      <td>-1.226491</td>\n",
       "      <td>0.108878</td>\n",
       "    </tr>\n",
       "    <tr>\n",
       "      <th>29</th>\n",
       "      <td>-0.266115</td>\n",
       "      <td>-1.061120</td>\n",
       "      <td>-0.593351</td>\n",
       "      <td>0.467769</td>\n",
       "    </tr>\n",
       "    <tr>\n",
       "      <th>30</th>\n",
       "      <td>0.268039</td>\n",
       "      <td>0.682749</td>\n",
       "      <td>2.218826</td>\n",
       "      <td>1.536077</td>\n",
       "    </tr>\n",
       "    <tr>\n",
       "      <th>31</th>\n",
       "      <td>0.215039</td>\n",
       "      <td>-1.112078</td>\n",
       "      <td>0.318000</td>\n",
       "      <td>1.430078</td>\n",
       "    </tr>\n",
       "    <tr>\n",
       "      <th>32</th>\n",
       "      <td>-0.633953</td>\n",
       "      <td>-0.306862</td>\n",
       "      <td>-0.574769</td>\n",
       "      <td>-0.267907</td>\n",
       "    </tr>\n",
       "    <tr>\n",
       "      <th>33</th>\n",
       "      <td>-0.061848</td>\n",
       "      <td>0.994702</td>\n",
       "      <td>1.871005</td>\n",
       "      <td>0.876303</td>\n",
       "    </tr>\n",
       "    <tr>\n",
       "      <th>34</th>\n",
       "      <td>0.351962</td>\n",
       "      <td>1.033896</td>\n",
       "      <td>2.737821</td>\n",
       "      <td>1.703924</td>\n",
       "    </tr>\n",
       "    <tr>\n",
       "      <th>35</th>\n",
       "      <td>1.225552</td>\n",
       "      <td>-1.062453</td>\n",
       "      <td>2.388650</td>\n",
       "      <td>3.451104</td>\n",
       "    </tr>\n",
       "    <tr>\n",
       "      <th>38</th>\n",
       "      <td>0.103545</td>\n",
       "      <td>0.340343</td>\n",
       "      <td>1.547433</td>\n",
       "      <td>1.207090</td>\n",
       "    </tr>\n",
       "    <tr>\n",
       "      <th>39</th>\n",
       "      <td>0.563758</td>\n",
       "      <td>-0.215157</td>\n",
       "      <td>1.912360</td>\n",
       "      <td>2.127516</td>\n",
       "    </tr>\n",
       "    <tr>\n",
       "      <th>40</th>\n",
       "      <td>-0.288224</td>\n",
       "      <td>0.176676</td>\n",
       "      <td>0.600228</td>\n",
       "      <td>0.423552</td>\n",
       "    </tr>\n",
       "    <tr>\n",
       "      <th>41</th>\n",
       "      <td>0.671864</td>\n",
       "      <td>0.220626</td>\n",
       "      <td>2.564354</td>\n",
       "      <td>2.343728</td>\n",
       "    </tr>\n",
       "    <tr>\n",
       "      <th>43</th>\n",
       "      <td>1.176627</td>\n",
       "      <td>0.036182</td>\n",
       "      <td>3.389437</td>\n",
       "      <td>3.353254</td>\n",
       "    </tr>\n",
       "    <tr>\n",
       "      <th>44</th>\n",
       "      <td>-0.980329</td>\n",
       "      <td>-0.494900</td>\n",
       "      <td>-1.455558</td>\n",
       "      <td>-0.960658</td>\n",
       "    </tr>\n",
       "    <tr>\n",
       "      <th>45</th>\n",
       "      <td>0.774498</td>\n",
       "      <td>-1.404089</td>\n",
       "      <td>1.144907</td>\n",
       "      <td>2.548997</td>\n",
       "    </tr>\n",
       "    <tr>\n",
       "      <th>47</th>\n",
       "      <td>0.586924</td>\n",
       "      <td>0.390424</td>\n",
       "      <td>2.564272</td>\n",
       "      <td>2.173848</td>\n",
       "    </tr>\n",
       "    <tr>\n",
       "      <th>49</th>\n",
       "      <td>-1.135456</td>\n",
       "      <td>0.363605</td>\n",
       "      <td>-0.907306</td>\n",
       "      <td>-1.270911</td>\n",
       "    </tr>\n",
       "  </tbody>\n",
       "</table>\n",
       "</div>"
      ],
      "text/plain": [
       "           x         e         y         p\n",
       "1   0.580828  0.148958  2.310614  2.161656\n",
       "2  -0.867230 -0.492405 -1.226866 -0.734461\n",
       "4  -0.058735  0.457048  1.339578  0.882529\n",
       "5   0.364189 -1.005736  0.722642  1.728378\n",
       "6  -0.823832  1.257918  0.610253 -0.647665\n",
       "7   0.384961 -0.464372  1.305551  1.769922\n",
       "8  -0.052846  1.479420  2.373729  0.894309\n",
       "10  0.601696  0.243021  2.446412  2.203391\n",
       "11 -0.565528 -0.708750 -0.839807 -0.131057\n",
       "12 -0.546636  1.211224  1.117952 -0.093272\n",
       "13  0.011148  0.538055  1.560350  1.022296\n",
       "14  0.128003  1.586182  2.842188  1.256006\n",
       "15  0.194572 -0.163093  1.226051  1.389145\n",
       "16  0.764734 -1.032744  1.496723  2.529467\n",
       "19 -0.466635  1.519238  1.585968  0.066729\n",
       "27 -0.379054  0.487487  0.729379  0.241892\n",
       "28 -0.445561 -1.335369 -1.226491  0.108878\n",
       "29 -0.266115 -1.061120 -0.593351  0.467769\n",
       "30  0.268039  0.682749  2.218826  1.536077\n",
       "31  0.215039 -1.112078  0.318000  1.430078\n",
       "32 -0.633953 -0.306862 -0.574769 -0.267907\n",
       "33 -0.061848  0.994702  1.871005  0.876303\n",
       "34  0.351962  1.033896  2.737821  1.703924\n",
       "35  1.225552 -1.062453  2.388650  3.451104\n",
       "38  0.103545  0.340343  1.547433  1.207090\n",
       "39  0.563758 -0.215157  1.912360  2.127516\n",
       "40 -0.288224  0.176676  0.600228  0.423552\n",
       "41  0.671864  0.220626  2.564354  2.343728\n",
       "43  1.176627  0.036182  3.389437  3.353254\n",
       "44 -0.980329 -0.494900 -1.455558 -0.960658\n",
       "45  0.774498 -1.404089  1.144907  2.548997\n",
       "47  0.586924  0.390424  2.564272  2.173848\n",
       "49 -1.135456  0.363605 -0.907306 -1.270911"
      ]
     },
     "execution_count": 14,
     "metadata": {},
     "output_type": "execute_result"
    }
   ],
   "source": [
    "# Note: abs(...) is the absolute value function\n",
    "# Write your own code \n",
    "\n",
    "ybar=dataset[\"y\"].mean()\n",
    "stdv_sample=dataset[\"y\"].std()\n",
    "\n",
    "dataset.query(\"abs(y-@ybar)<= @stdv_sample\")\n"
   ]
  },
  {
   "attachments": {},
   "cell_type": "markdown",
   "metadata": {},
   "source": [
    "# <span style=\"color:darkblue\"> II. Estimate the best fit line</span>\n"
   ]
  },
  {
   "attachments": {},
   "cell_type": "markdown",
   "metadata": {},
   "source": [
    "<font size = \"5\">\n",
    "\n",
    "We have data on $(y,x)$ but we don't know $(b_0,b_1)$"
   ]
  },
  {
   "attachments": {},
   "cell_type": "markdown",
   "metadata": {},
   "source": [
    "<font size = \"5\">\n",
    "\n",
    "Let's fit an OLS model\n",
    "\n",
    "- It's a statistical approach to get $(b_0,b_1)$\n",
    "- No need to know how it works but why we want it"
   ]
  },
  {
   "cell_type": "code",
   "execution_count": 15,
   "metadata": {},
   "outputs": [],
   "source": [
    "#------------------------------------------------------------------------------#\n",
    "# We use the subfunction \"ols()\" in the library \"smf\"\n",
    "#---- (i) The first argument is a string called \"formula\" with the format \n",
    "#-------- \"outcome ~ indepdent_vars\"\n",
    "#----(ii) the second argument is the dataset\n",
    "# The second line fits the model with standard errors \"cov\". In this case we \n",
    "# use \"robust\" standard errors (HC1)\n",
    "#-------------------------------------------------------------------------------#\n",
    "\n",
    "model   = smf.ols(formula = 'y ~  x',data = dataset)\n",
    "results = model.fit(cov_type = \"HC1\")\n",
    "\n",
    "# Can also run as one line\n",
    "# results = smf.ols(formula = 'y ~ x',data = dataset).fit(cov = \"HC1\")\n"
   ]
  },
  {
   "attachments": {},
   "cell_type": "markdown",
   "metadata": {},
   "source": [
    "<font size = \"5\">\n",
    "\n",
    "Compute the estimated best fit line"
   ]
  },
  {
   "cell_type": "code",
   "execution_count": 16,
   "metadata": {},
   "outputs": [
    {
     "name": "stdout",
     "output_type": "stream",
     "text": [
      "Intercept    0.926663\n",
      "x            2.023944\n",
      "dtype: float64\n"
     ]
    }
   ],
   "source": [
    "# We will use \".params\" to get the attribute \"parameters from the results\"\n",
    "\n",
    "b_list = results.params\n",
    "print(b_list)\n",
    "\n",
    "# We can then compute the \"estimated\" best fit lines\n",
    "# by extracting the intercept and slop from \"b_list\"\n",
    "\n",
    "dataset[\"p_estimated\"] = b_list[0] + b_list[1]  * dataset[\"x\"]\n",
    "\n",
    "# Note: The estimators for \"b0\" and \"b1\" are close to \n",
    "# the values we used to generate the data\n"
   ]
  },
  {
   "attachments": {},
   "cell_type": "markdown",
   "metadata": {},
   "source": [
    "<font size = \"5\">\n",
    "\n",
    "Plot the best fit line"
   ]
  },
  {
   "cell_type": "code",
   "execution_count": 17,
   "metadata": {},
   "outputs": [
    {
     "data": {
      "image/png": "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",
      "text/plain": [
       "<Figure size 640x480 with 1 Axes>"
      ]
     },
     "metadata": {},
     "output_type": "display_data"
    }
   ],
   "source": [
    "# Use scatter twice, with different \"y\" inputs\n",
    "# THe \"legend\" command creates a box on with the color labels\n",
    "\n",
    "plt.scatter(x = dataset[\"x\"],y = dataset[\"y\"])\n",
    "plt.scatter(x = dataset[\"x\"],y = dataset[\"p_estimated\"])\n",
    "\n",
    "plt.legend(labels = [\"Data points\",\"Estimated Predicted Model\"])\n",
    "plt.show()\n"
   ]
  },
  {
   "attachments": {},
   "cell_type": "markdown",
   "metadata": {},
   "source": [
    "<font size = \"5\">\n",
    "\n",
    "Try it yourself!\n",
    "- How good is the estimated fit?\n",
    "- Create two overlapping scatterplots\n",
    "- $(p \\text{ }$ vs $\\text{ } x)$ and $(p_{estimated} \\text{ }$ vs $\\text{ } x)$\n",
    "- Create a legend to label each plot"
   ]
  },
  {
   "cell_type": "code",
   "execution_count": 19,
   "metadata": {},
   "outputs": [
    {
     "data": {
      "image/png": "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",
      "text/plain": [
       "<Figure size 640x480 with 1 Axes>"
      ]
     },
     "metadata": {},
     "output_type": "display_data"
    }
   ],
   "source": [
    "# Write your own code\n",
    "\n",
    "\n",
    "plt.scatter(x = dataset[\"x\"],y = dataset[\"p\"])\n",
    "plt.scatter(x = dataset[\"x\"],y = dataset[\"p_estimated\"])\n",
    "\n",
    "\n",
    "plt.legend(labels = [\"Data points\",\"Estimated Predicted Model\"])\n",
    "plt.show()\n"
   ]
  },
  {
   "attachments": {},
   "cell_type": "markdown",
   "metadata": {},
   "source": [
    "<font size = \"5\">\n",
    "\n",
    "Try it youself\n",
    "\n",
    "- Compute a column with the formula\n",
    "\n",
    "$\\quad$ ``` sample_error = y - p_estimated```\n",
    "\n",
    "- Create a lambda function <br>\n",
    "\n",
    "$\\quad$ ``` fn_positive_error  error: error >= 0  ```\n",
    "\n",
    "- Compute a column for whether the error is positive <br>\n",
    "using ``` .apply()```\n",
    "\n"
   ]
  },
  {
   "cell_type": "code",
   "execution_count": 20,
   "metadata": {},
   "outputs": [
    {
     "data": {
      "text/plain": [
       "0      True\n",
       "1      True\n",
       "2     False\n",
       "3     False\n",
       "4      True\n",
       "5     False\n",
       "6      True\n",
       "7     False\n",
       "8      True\n",
       "9     False\n",
       "10     True\n",
       "11    False\n",
       "12     True\n",
       "13     True\n",
       "14     True\n",
       "15    False\n",
       "16    False\n",
       "17     True\n",
       "18    False\n",
       "19     True\n",
       "20     True\n",
       "21     True\n",
       "22    False\n",
       "23    False\n",
       "24    False\n",
       "25    False\n",
       "26     True\n",
       "27     True\n",
       "28    False\n",
       "29    False\n",
       "30     True\n",
       "31    False\n",
       "32    False\n",
       "33     True\n",
       "34     True\n",
       "35    False\n",
       "36    False\n",
       "37     True\n",
       "38     True\n",
       "39    False\n",
       "40     True\n",
       "41     True\n",
       "42    False\n",
       "43     True\n",
       "44    False\n",
       "45    False\n",
       "46     True\n",
       "47     True\n",
       "48    False\n",
       "49     True\n",
       "Name: sample_error, dtype: bool"
      ]
     },
     "execution_count": 20,
     "metadata": {},
     "output_type": "execute_result"
    }
   ],
   "source": [
    "# Write your own code\n",
    "\n",
    "dataset[\"sample_error\"]=dataset[\"y\"]-dataset[\"p_estimated\"]\n",
    "fn_positive_error=lambda error: error>=0\n",
    "dataset[\"sample_error\"].apply(fn_positive_error)\n",
    "\n",
    "\n"
   ]
  },
  {
   "attachments": {},
   "cell_type": "markdown",
   "metadata": {},
   "source": [
    "<font size = \"5\">\n",
    "\n",
    "Try it yourself\n",
    "\n",
    "- Compute a new column <br>\n",
    "\n",
    "```error_sqr = sample_error ** 2```\n",
    "\n",
    "- Calculate the mean of ```error_sqr```"
   ]
  },
  {
   "cell_type": "code",
   "execution_count": 49,
   "metadata": {},
   "outputs": [],
   "source": [
    "# Write your own code\n",
    "\n",
    "\n",
    "dataset[\"error_sqr\"]=dataset[\"sample_error\"]**2\n",
    "\n",
    "\n",
    "\n",
    "\n"
   ]
  }
 ],
 "metadata": {
  "kernelspec": {
   "display_name": "Python 3",
   "language": "python",
   "name": "python3"
  },
  "language_info": {
   "codemirror_mode": {
    "name": "ipython",
    "version": 3
   },
   "file_extension": ".py",
   "mimetype": "text/x-python",
   "name": "python",
   "nbconvert_exporter": "python",
   "pygments_lexer": "ipython3",
   "version": "3.11.1"
  },
  "orig_nbformat": 4,
  "vscode": {
   "interpreter": {
<<<<<<< HEAD
    "hash": "159b4296548f8f0840ee5bf01304da506b2e8d9f2c4af279a4a084f77af5aa62"
=======
    "hash": "21ede215e1d7050e85468e313dd1f4ce196ee27894ecac2da549fae8ddf074d3"
>>>>>>> upstream/main
   }
  }
 },
 "nbformat": 4,
 "nbformat_minor": 2
}
